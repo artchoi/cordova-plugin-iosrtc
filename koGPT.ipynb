{
  "nbformat": 4,
  "nbformat_minor": 0,
  "metadata": {
    "colab": {
      "name": "koGPT.ipynb",
      "provenance": [],
      "authorship_tag": "ABX9TyM99okWzjp5JraK1y6AxmmK",
      "include_colab_link": true
    },
    "kernelspec": {
      "name": "python3",
      "display_name": "Python 3"
    },
    "language_info": {
      "name": "python"
    },
    "accelerator": "GPU"
  },
  "cells": [
    {
      "cell_type": "markdown",
      "metadata": {
        "id": "view-in-github",
        "colab_type": "text"
      },
      "source": [
        "<a href=\"https://colab.research.google.com/github/artchoi/cordova-plugin-iosrtc/blob/master/koGPT.ipynb\" target=\"_parent\"><img src=\"https://colab.research.google.com/assets/colab-badge.svg\" alt=\"Open In Colab\"/></a>"
      ]
    },
    {
      "cell_type": "code",
      "metadata": {
        "id": "GVTMC4mMnDgH"
      },
      "source": [
        "!git clone --recurse-submodules https://github.com/haven-jeon/KoGPT2-chatbot.git"
      ],
      "execution_count": null,
      "outputs": []
    },
    {
      "cell_type": "code",
      "metadata": {
        "id": "G88oZf-4hoaN"
      },
      "source": [
        "cd KoGPT2-chatbot"
      ],
      "execution_count": null,
      "outputs": []
    },
    {
      "cell_type": "code",
      "metadata": {
        "id": "M8gvWfLphxc2"
      },
      "source": [
        "!pip install -r requirements.txt "
      ],
      "execution_count": null,
      "outputs": []
    },
    {
      "cell_type": "code",
      "metadata": {
        "id": "naXykO_hhgng"
      },
      "source": [
        "!CUDA_VISIBLE_DEVICES=0 python train_torch.py --gpus 1 --train --max_epochs 2"
      ],
      "execution_count": null,
      "outputs": []
    },
    {
      "cell_type": "code",
      "metadata": {
        "colab": {
          "base_uri": "https://localhost:8080/"
        },
        "id": "PCrRuH1clzbS",
        "outputId": "f2989b2a-a8f9-4cad-a54b-2caa937566bb"
      },
      "source": [
        "!CUDA_VISIBLE_DEVICES=0 python train_torch.py --gpus 1 --chat"
      ],
      "execution_count": 7,
      "outputs": [
        {
          "output_type": "stream",
          "name": "stdout",
          "text": [
            "INFO:root:Namespace(accelerator=None, accumulate_grad_batches=1, amp_backend='native', amp_level='O2', auto_lr_find=False, auto_scale_batch_size=False, auto_select_gpus=False, automatic_optimization=None, batch_size=96, benchmark=False, chat=True, check_val_every_n_epoch=1, checkpoint_callback=True, default_root_dir=None, deterministic=False, distributed_backend=None, enable_pl_optimizer=None, fast_dev_run=False, flush_logs_every_n_steps=100, gpus=1, gradient_clip_val=0, limit_predict_batches=1.0, limit_test_batches=1.0, limit_train_batches=1.0, limit_val_batches=1.0, log_every_n_steps=50, log_gpu_memory=None, logger=True, lr=5e-05, max_epochs=None, max_len=32, max_steps=None, min_epochs=None, min_steps=None, model_params='model_chp/model_-last.ckpt', move_metrics_to_cpu=False, multiple_trainloader_mode='max_size_cycle', num_nodes=1, num_processes=1, num_sanity_val_steps=2, overfit_batches=0.0, plugins=None, precision=32, prepare_data_per_node=True, process_position=0, profiler=None, progress_bar_refresh_rate=None, reload_dataloaders_every_epoch=False, replace_sampler_ddp=True, resume_from_checkpoint=None, sentiment='0', stochastic_weight_avg=False, sync_batchnorm=False, terminate_on_nan=False, tpu_cores=None, track_grad_norm=-1, train=False, truncated_bptt_steps=None, val_check_interval=1.0, warmup_ratio=0.1, weights_save_path=None, weights_summary='top')\n",
            "user > 대박\n",
            "대박\n",
            "Simsimi > 맛난 거 드세요.\n",
            "user > Simsimi > 맛난 거 드세요.\n",
            "user > 너 이름이 뭐니?\n",
            "Simsimi > 저는 위로봇입니다.\n",
            "user > 대박\n",
            "대박\n",
            "Simsimi > 맛난 거 드세요.\n",
            "user > Simsimi > 맛난 거 드세요.\n",
            "user > 비가와\n",
            "비가와\n",
            "Simsimi > 우산 준비하세요.\n",
            "user > Simsimi > 우산 준비하세요.\n",
            "user > 봄이왔어\n",
            "봄이왔어\n",
            "Simsimi > 따뜻해졌죠.\n",
            "user > Simsimi > 따뜻해졌죠.\n",
            "user > 배탈났어\n",
            "배탈났어\n",
            "Simsimi > 얼른 집에 가서 쉬세요.\n",
            "user > Simsimi > 얼른 집에 가서 쉬세요.\n",
            "user > 너를 만든 사람은?\n",
            "Simsimi > 당신은 태어난 그 자체만으로 축복과 사랑을 받을 자격이 있는 사람이에요.\n",
            "user > good bye\n",
            "Simsimi > 좋은 식습관이에요.\n",
            "user > 잘있어요\n",
            "잘있어요\n",
            "Simsimi > 저도 잘 있어요.\n",
            "user > Simsimi > 저도 잘 있어요.\n",
            "user > Traceback (most recent call last):\n",
            "  File \"train_torch.py\", line 242, in <module>\n",
            "  File \"train_torch.py\", line 199, in chat\n",
            "    q = input('user > ').strip()\n",
            "KeyboardInterrupt\n"
          ]
        }
      ]
    }
  ]
}